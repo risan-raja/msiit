{
 "cells": [
  {
   "cell_type": "code",
   "execution_count": 1,
   "id": "f40df014-703a-4772-9650-5b8bd5189780",
   "metadata": {},
   "outputs": [
    {
     "name": "stdout",
     "output_type": "stream",
     "text": [
      "importing Jupyter notebook from setup_work.ipynb\n"
     ]
    },
    {
     "name": "stderr",
     "output_type": "stream",
     "text": [
      "Intel(R) Extension for Scikit-learn* enabled (https://github.com/intel/scikit-learn-intelex)\n"
     ]
    }
   ],
   "source": [
    "from mysetup import NotebookFinder\n",
    "import sys\n",
    "\n",
    "sys.meta_path.append(NotebookFinder())\n",
    "\n",
    "from setup_work import *\n"
   ]
  },
  {
   "cell_type": "code",
   "execution_count": 2,
   "id": "dbf0bc3b-3952-4f44-80c8-3bb914bdf3ea",
   "metadata": {},
   "outputs": [
    {
     "name": "stdin",
     "output_type": "stream",
     "text": [
      "Do you want to use new data? n\n"
     ]
    }
   ],
   "source": [
    "data,eval_data = bring_data()"
   ]
  },
  {
   "cell_type": "code",
   "execution_count": 3,
   "id": "250d4d16-6065-416c-9aa2-a6e4e9e78458",
   "metadata": {},
   "outputs": [],
   "source": [
    "redundant,nr_data,nr_eval_data = elim_redund(data,eval_data)"
   ]
  }
 ],
 "metadata": {
  "kernelspec": {
   "display_name": "python (ML)",
   "language": "python",
   "name": "ml"
  },
  "language_info": {
   "codemirror_mode": {
    "name": "ipython",
    "version": 3
   },
   "file_extension": ".py",
   "mimetype": "text/x-python",
   "name": "python",
   "nbconvert_exporter": "python",
   "pygments_lexer": "ipython3",
   "version": "3.9.10"
  }
 },
 "nbformat": 4,
 "nbformat_minor": 5
}
