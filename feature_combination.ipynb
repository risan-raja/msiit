{
 "cells": [
  {
   "cell_type": "code",
   "execution_count": 2,
   "id": "f938b9c8-38dd-4639-a77a-52db76e29f9c",
   "metadata": {},
   "outputs": [],
   "source": [
    "import shelve\n",
    "import mkl_random as rnd\n",
    "from tqdm import trange,tqdm\n",
    "from numba import jit\n",
    "import pandas as pd\n",
    "pd.options.compute.use_numba = False\n",
    "import itertools\n",
    "import math"
   ]
  },
  {
   "cell_type": "code",
   "execution_count": 3,
   "id": "f40df014-703a-4772-9650-5b8bd5189780",
   "metadata": {},
   "outputs": [
    {
     "name": "stdout",
     "output_type": "stream",
     "text": [
      "importing Jupyter notebook from setup_work.ipynb\n"
     ]
    },
    {
     "name": "stderr",
     "output_type": "stream",
     "text": [
      "Intel(R) Extension for Scikit-learn* enabled (https://github.com/intel/scikit-learn-intelex)\n"
     ]
    }
   ],
   "source": [
    "from mysetup import NotebookFinder\n",
    "import sys\n",
    "\n",
    "sys.meta_path.append(NotebookFinder())\n",
    "\n",
    "from setup_work import *\n"
   ]
  },
  {
   "cell_type": "code",
   "execution_count": 4,
   "id": "9d4a4f2e-391d-482e-9daf-7bc719fa5fd1",
   "metadata": {},
   "outputs": [],
   "source": [
    "def gen_col_data(df):\n",
    "    idx = df.index.to_flat_index().to_list()\n",
    "    col_names = [f'col_{i}' for i in range(7)]\n",
    "    df = pd.DataFrame(columns=col_names)\n",
    "    for j,i_ in enumerate(idx):\n",
    "        for k,c in zip(i_,col_names):\n",
    "            df.loc[j,c] =k\n",
    "    return df\n",
    "orig_columns = ['binary__offer_expiration',\n",
    " 'ordinal__income_range',\n",
    " 'ordinal__no_visited_cold_drinks',\n",
    " 'binary__travelled_more_than_15mins_for_offer',\n",
    " 'ordinal__restaur_spend_less_than20',\n",
    " 'nominal__marital_status',\n",
    " 'nominal__restaurant_type',\n",
    " 'ordinal__age',\n",
    " 'binary__prefer_western_over_chinese',\n",
    " 'binary__travelled_more_than_25mins_for_offer',\n",
    " 'ordinal__no_visited_bars',\n",
    " 'binary__gender',\n",
    " 'nominal__car',\n",
    " 'binary__restuarant_same_direction_house',\n",
    " 'binary__cooks_regularly',\n",
    " 'nominal__customer_type',\n",
    " 'ordinal__qualif',\n",
    " 'binary__is_foodie',\n",
    " 'ordinal__no_take_aways',\n",
    " 'nominal__job_industry',\n",
    " 'binary__restuarant_opposite_direction_house',\n",
    " 'binary__has_children',\n",
    " 'ordinal__type_of_rest_rating',\n",
    " 'interval__temperature',\n",
    " 'ordinal__restaur_spend_greater_than20',\n",
    " 'interval__travel_time',\n",
    " 'interval__season',\n",
    " 'ordinal__dest_distance',\n",
    " 'binary__prefer_home_food',\n",
    " ]"
   ]
  },
  {
   "cell_type": "code",
   "execution_count": 5,
   "id": "f886aff5-4df0-404e-a867-205925ab944f",
   "metadata": {},
   "outputs": [
    {
     "name": "stdin",
     "output_type": "stream",
     "text": [
      "Do you want to use new data? n\n"
     ]
    }
   ],
   "source": [
    "data,eval_data = bring_data()\n",
    "\n",
    "redundant,nr_data,nr_eval_data = elim_redund(data,eval_data)"
   ]
  },
  {
   "cell_type": "code",
   "execution_count": 5,
   "id": "c71106cb-98d3-4575-866d-706ec397afd1",
   "metadata": {
    "tags": []
   },
   "outputs": [],
   "source": [
    "\"\"\"\n",
    "    def gen_work_pile(self, work_size):\n",
    "        work_pile = []\n",
    "        n_work_pile = 0\n",
    "        while(n_work_pile != work_size):\n",
    "            pile = list(self.rng.choice(orig_columns,size=20,replace=False))\n",
    "            pile_str = '|'.join(pile)            \n",
    "            if pile_str not in self.pile_id:\n",
    "                work_pile.append(pile)\n",
    "                self.pile_id[pile_str]=0\n",
    "                n_work_pile+=1\n",
    "        return work_pile\n",
    "        #     def gen_work_pile(self, work_size):\n",
    "#         work_pile = list(itertools.combinations(self.binary,int(0.3*work_size))+ \n",
    "#         work_pile = [list(x) for x in work_pile]\n",
    "#         return work_pile\n",
    "#     def mark_permutations(self,pile_):\n",
    "#         pile_len = len(pile_)\n",
    "#         pile_perms = list(self.rng.choice(\n",
    "#             list(itertools.permutations(pile_,pile_len)),\n",
    "#             size=100,\n",
    "#             replace=False\n",
    "#         ))\n",
    "#         for tmp_pile in pile_perms:\n",
    "#             tmp_pile_str = '|'.join(tmp_pile)            \n",
    "#             self.pile_id[tmp_pile_str]=0\n",
    "\"\"\"\n",
    "pass"
   ]
  },
  {
   "cell_type": "code",
   "execution_count": 45,
   "id": "5871409c-e481-4352-aba1-0f2ded053967",
   "metadata": {},
   "outputs": [
    {
     "data": {
      "text/plain": [
       "[(1, 2, 3), (1, 3, 2), (2, 1, 3), (2, 3, 1), (3, 1, 2), (3, 2, 1)]"
      ]
     },
     "execution_count": 45,
     "metadata": {},
     "output_type": "execute_result"
    }
   ],
   "source": [
    "list(itertools.permutations([1,2,3],3))"
   ]
  },
  {
   "cell_type": "code",
   "execution_count": 12,
   "id": "82dc4326-69b2-4b5d-8ec4-684a0e5e41e4",
   "metadata": {},
   "outputs": [],
   "source": [
    "import itertools\n",
    "\n",
    "nominal = [x for x in orig_columns if \"nominal_\" in x]\n",
    "ordinal = [x for x in orig_columns if \"ordinal_\" in x]\n",
    "binary = [x for x in orig_columns if \"binary_\" in x]\n",
    "interval = [x for x in orig_columns if \"interval_\" in x]\n",
    "\n",
    "class FCombi(object):\n",
    "    def __init__(self,size):\n",
    "        self.search_space = orig_columns\n",
    "        self.feature_coverage = []\n",
    "        self.coverage_ratio = []\n",
    "        self.max_coverage = np.inf\n",
    "        self.nom_combi_min = [] \n",
    "        self.combi_data_min = []\n",
    "        self.min_s = np.inf\n",
    "        self.nom_combi_max = [] \n",
    "        self.combi_data_max = []\n",
    "        self.max_s = np.NINF\n",
    "        self.pile_id = {}\n",
    "        self.size = size\n",
    "        self.rng = np.random.default_rng()\n",
    "        self.t_name = None\n",
    "        self.max_similarity = np.NINF\n",
    "        self.similar_features = []\n",
    "        self.binary =  [x for x in self.search_space if \"binary_\" in x]\n",
    "        self.nominal = [x for x in self.search_space if \"nominal_\" in x]\n",
    "        self.ordinal =  [x for x in self.search_space if \"ordinal_\" in x]\n",
    "        self.interval =  [x for x in self.search_space if \"interval_\" in x]\n",
    "        \n",
    "        \n",
    "    def save(self):\n",
    "        with shelve.open(DATA_OUTPUT+'combi_tracker') as tdb:\n",
    "            next_idx = len([x for x in tdb if f\"tracker_{tracker.size}\" in x])+1\n",
    "            tracker_name = f\"tracker_{tracker.size}_{next_idx}\"\n",
    "            tdb[tracker_name] = tracker\n",
    "            print(f'Saved Tracker under {tracker_name}')\n",
    "        return\n",
    "\n",
    "\n",
    "            \n",
    "    def gen_work_pile(self, work_size):\n",
    "        work_pile = []\n",
    "        n_work_pile = 0\n",
    "        while(n_work_pile != work_size):\n",
    "            pile = list(self.rng.choice(orig_columns,size=12,replace=False))\n",
    "            pile_str = '|'.join(pile)            \n",
    "            if pile_str not in self.pile_id:\n",
    "                work_pile.append(pile)\n",
    "                self.pile_id[pile_str]=0\n",
    "                n_work_pile+=1\n",
    "#                 self.mark_permutations(pile)\n",
    "        return work_pile\n",
    "    \n",
    "    def get_tname(self):\n",
    "        with shelve.open(DATA_OUTPUT+'combi_tracker') as tdb:\n",
    "            next_idx = len([x for x in tdb if f\"tracker_{tracker.size}\" in x])+1\n",
    "            tracker_name = f\"tracker_{tracker.size}_{next_idx}\"\n",
    "            self.t_name = tracker_name\n",
    "        return self.t_name\n",
    "    \n",
    "    def save_instance(self):\n",
    "        \n",
    "        if self.t_name:\n",
    "            with shelve.open(DATA_OUTPUT+'combi_tracker') as tdb:\n",
    "                tdb[self.t_name] = tracker\n",
    "                tdb[self.t_name+'__meta'] = tracker.__dict__\n",
    "                print(f'Saved Tracker under {self.t_name}')\n",
    "        else:\n",
    "            tid = self.get_tname()\n",
    "            with shelve.open(DATA_OUTPUT+'combi_tracker') as tdb:\n",
    "                tdb[self.t_name] = tracker\n",
    "                tdb[self.t_name+'__meta'] = tracker.__dict__\n",
    "                print(f'Saved Tracker under {self.t_name}')            \n",
    "        return"
   ]
  },
  {
   "cell_type": "code",
   "execution_count": 13,
   "id": "bc28c205-a4a6-4cfb-a56a-799c132acdc3",
   "metadata": {},
   "outputs": [],
   "source": [
    "# nominal = [x for x in data.columns if \"nominal_\" in x]\n",
    "# ordinal = [x for x in data.columns if \"ordinal_\" in x]\n",
    "# binary = [x for x in data.columns if \"binary_\" in x]\n",
    "# interval = [x for x in data.columns if \"interval_\" in x]\n",
    "\n",
    "    \n",
    "X = data.copy()\n",
    "X_eval = eval_data.copy()\n",
    "X['dummy'] = 1\n",
    "X_eval['dummy']=1\n",
    "\n",
    "\n",
    "def check_num_similar(pile):\n",
    "    global X,X_eval\n",
    "    acc = X.groupby(pile)['dummy'].sum()/X.groupby(pile)['dummy'].count()\n",
    "    acc_eval = X_eval.groupby(pile)['dummy'].sum()/X_eval.groupby(pile)['dummy'].count()\n",
    "    cmmn = len(acc.index.intersection(acc_eval.index))\n",
    "    return cmmn\n",
    "\n",
    "tracker = FCombi(122)\n",
    "\n",
    "def process_pile(pile,df=data,df_eval=eval_data):\n",
    "    global tracker\n",
    "    pile_tc = df.groupby(pile)['target'].count()\n",
    "    pile_tsum = df.groupby(pile)['target'].sum()\n",
    "    res = pile_tsum/pile_tc\n",
    "    #     check = any(item in pile for item in redundant)\n",
    "    check=False\n",
    "    for item in pile:\n",
    "        if item in redundant:\n",
    "            check=True\n",
    "            break\n",
    "\n",
    "    v,nu,sh,vc,redundancy    =res.var(), res.unique(), res.shape, res.value_counts(), check\n",
    "    if vc.shape[0] <= tracker.min_s:\n",
    "        tracker.min_s = vc.shape[0]\n",
    "        tracker.nom_combi_min.append(pile)\n",
    "        tracker.combi_data_min.append((v,nu,sh[0],vc))\n",
    "    if vc.shape[0] >= tracker.max_s:\n",
    "        tracker.max_s = vc.shape[0]\n",
    "        tracker.nom_combi_max.append(pile)\n",
    "        tracker.combi_data_max.append((v,nu,sh[0],vc))\n",
    "    if pile_tc.value_counts()[1] <= tracker.max_coverage:\n",
    "        tracker.max_coverage = pile_tc.value_counts()[1]\n",
    "#         tracker.save_instance()        \n",
    "        tracker.feature_coverage.append(pile)\n",
    "        tracker.coverage_ratio.append(sh[0]/df.shape[0])\n",
    "    if check_num_similar(pile) >= tracker.max_similarity:\n",
    "        tracker.save_instance()        \n",
    "        print(tracker.max_similarity)\n",
    "        tracker.max_similarity = check_num_similar(pile)\n",
    "        tracker.similar_features.append(pile)\n",
    "        \n",
    "    \n",
    "\n"
   ]
  },
  {
   "cell_type": "code",
   "execution_count": 14,
   "id": "11b4f3f2-3310-4de5-8e92-c2838ab0bed2",
   "metadata": {},
   "outputs": [
    {
     "name": "stdout",
     "output_type": "stream",
     "text": [
      "Tracker_STats:  Nom Combi Max:  -inf Nom Combi Min:  inf   F Coverage:  inf  Max Similarity: -inf\n"
     ]
    }
   ],
   "source": [
    "print(\"Tracker_STats: \",\"Nom Combi Max: \",tracker.max_s,\"Nom Combi Min: \",tracker.min_s,\"  F Coverage: \",tracker.max_coverage,\" Max Similarity:\",tracker.max_similarity)\n",
    "# print(\"Similarity:    \",\"Nom Combi Max: \",check_num_similar(tracker.nom_combi_max[-1]),\"Nom Combi Min: \",check_num_similar(tracker.nom_combi_min[-1]),\"F Coverage: \",check_num_similar(tracker.feature_coverage[-1]))"
   ]
  },
  {
   "cell_type": "code",
   "execution_count": null,
   "id": "39d2da89-9112-4525-84f5-1accd96b67fc",
   "metadata": {
    "tags": []
   },
   "outputs": [
    {
     "name": "stderr",
     "output_type": "stream",
     "text": [
      "  0%|          | 0/1000000 [00:00<?, ?it/s]"
     ]
    },
    {
     "name": "stdout",
     "output_type": "stream",
     "text": [
      "Saved Tracker under tracker_122_1\n",
      "-inf\n"
     ]
    },
    {
     "name": "stderr",
     "output_type": "stream",
     "text": [
      "  0%|          | 2/1000000 [00:00<82:33:16,  3.36it/s] "
     ]
    },
    {
     "name": "stdout",
     "output_type": "stream",
     "text": [
      "Saved Tracker under tracker_122_1\n",
      "905\n",
      "Saved Tracker under tracker_122_1\n",
      "1344\n"
     ]
    },
    {
     "name": "stderr",
     "output_type": "stream",
     "text": [
      "  0%|          | 7/1000000 [00:01<51:02:28,  5.44it/s]"
     ]
    },
    {
     "name": "stdout",
     "output_type": "stream",
     "text": [
      "Saved Tracker under tracker_122_1\n",
      "1536\n"
     ]
    },
    {
     "name": "stderr",
     "output_type": "stream",
     "text": [
      "  0%|          | 11/1000000 [00:02<50:06:48,  5.54it/s]"
     ]
    },
    {
     "name": "stdout",
     "output_type": "stream",
     "text": [
      "Saved Tracker under tracker_122_1\n",
      "2182\n"
     ]
    },
    {
     "name": "stderr",
     "output_type": "stream",
     "text": [
      "  0%|          | 159/1000000 [00:27<50:42:40,  5.48it/s]"
     ]
    },
    {
     "name": "stdout",
     "output_type": "stream",
     "text": [
      "Saved Tracker under tracker_122_1\n",
      "2190\n"
     ]
    },
    {
     "name": "stderr",
     "output_type": "stream",
     "text": [
      "  0%|          | 260/1000000 [00:44<49:16:43,  5.64it/s]"
     ]
    },
    {
     "name": "stdout",
     "output_type": "stream",
     "text": [
      "Saved Tracker under tracker_122_1\n",
      "2200\n"
     ]
    },
    {
     "name": "stderr",
     "output_type": "stream",
     "text": [
      "  0%|          | 320/1000000 [00:54<48:47:54,  5.69it/s]"
     ]
    },
    {
     "name": "stdout",
     "output_type": "stream",
     "text": [
      "Saved Tracker under tracker_122_1\n",
      "2262\n"
     ]
    },
    {
     "name": "stderr",
     "output_type": "stream",
     "text": [
      "  0%|          | 3941/1000000 [11:01<64:00:13,  4.32it/s]"
     ]
    },
    {
     "name": "stdout",
     "output_type": "stream",
     "text": [
      "Saved Tracker under tracker_122_1\n",
      "2471\n"
     ]
    },
    {
     "name": "stderr",
     "output_type": "stream",
     "text": [
      "  1%|          | 10680/1000000 [29:52<87:19:52,  3.15it/s]"
     ]
    },
    {
     "name": "stdout",
     "output_type": "stream",
     "text": [
      "Saved Tracker under tracker_122_1\n",
      "2504\n"
     ]
    },
    {
     "name": "stderr",
     "output_type": "stream",
     "text": [
      "  6%|▌         | 55256/1000000 [2:34:10<47:15:13,  5.55it/s]"
     ]
    }
   ],
   "source": [
    "def rund(tracker=tracker,df=data):\n",
    "    try:\n",
    "        for i in trange(1_000_000):\n",
    "            work_pile = tracker.gen_work_pile(3)\n",
    "    #         with parallel_backend('threading',n_jobs=12):\n",
    "    #             Parallel(require='sharedmem',n_jobs=12)(delayed(process_pile)(pile,df) for pile in work_pile[:500])\n",
    "            for pile in work_pile:\n",
    "                e=process_pile(pile,df=df)\n",
    "    except KeyboardInterrupt as e:\n",
    "        return\n",
    "        \n",
    "rund()\n",
    "print(\"Tracker_STats: \",\"Nom Combi Max: \",tracker.max_s,\"Nom Combi Min: \",tracker.min_s,\"  F Coverage: \",tracker.max_coverage,\" Max Similarity:\",tracker.max_similarity)\n",
    "print(\"Similarity:    \",\"Nom Combi Max: \",check_num_similar(tracker.nom_combi_max[-1]),\"Nom Combi Min: \",check_num_similar(tracker.nom_combi_min[-1]),\"F Coverage: \",check_num_similar(tracker.feature_coverage[-1]))\n",
    "# tracker.save_instance()"
   ]
  },
  {
   "cell_type": "code",
   "execution_count": 15,
   "id": "ca5ba3ff-037e-4cd6-9c3b-4f965e029cb2",
   "metadata": {},
   "outputs": [
    {
     "data": {
      "text/plain": [
       "51895935"
      ]
     },
     "execution_count": 15,
     "metadata": {},
     "output_type": "execute_result"
    }
   ],
   "source": [
    "import math\n",
    "math.comb(29,12)"
   ]
  },
  {
   "cell_type": "code",
   "execution_count": 22,
   "id": "bdee4010-336a-4c80-bfb7-362ba887e288",
   "metadata": {},
   "outputs": [],
   "source": [
    "with shelve.open(DATA_OUTPUT+'combi_tracker') as tdb:\n",
    "    tdb['tracker_44_2_meta'] = tracker.__dict__"
   ]
  },
  {
   "cell_type": "code",
   "execution_count": 16,
   "id": "b4bb86b3-3386-4628-8078-27e5d43c57bb",
   "metadata": {
    "scrolled": true,
    "tags": []
   },
   "outputs": [
    {
     "name": "stderr",
     "output_type": "stream",
     "text": [
      " 43%|████▎     | 6/14 [00:00<00:00, 29.26it/s]"
     ]
    },
    {
     "name": "stdout",
     "output_type": "stream",
     "text": [
      "1768\n",
      "1951\n",
      "1852\n",
      "1928\n",
      "1522\n",
      "1564\n",
      "851\n",
      "684\n",
      "652\n",
      "983\n"
     ]
    },
    {
     "name": "stderr",
     "output_type": "stream",
     "text": [
      "100%|██████████| 14/14 [00:00<00:00, 28.61it/s]"
     ]
    },
    {
     "name": "stdout",
     "output_type": "stream",
     "text": [
      "629\n",
      "572\n",
      "599\n",
      "773\n"
     ]
    },
    {
     "name": "stderr",
     "output_type": "stream",
     "text": [
      "\n"
     ]
    }
   ],
   "source": [
    "X = data.copy()\n",
    "X_eval = eval_data.copy()\n",
    "X['dummy'] = 1\n",
    "X_eval['dummy']=1\n",
    "for fd in tqdm(tracker_7.nom_combi_min):\n",
    "    acc = X.groupby(fd)['dummy'].sum()/X.groupby(fd)['dummy'].count()\n",
    "    acc_eval = X_eval.groupby(fd)['dummy'].sum()/X_eval.groupby(fd)['dummy'].count()\n",
    "    cmmn = len(acc.index.intersection(acc_eval.index))\n",
    "#     if cmmn > 2000:\n",
    "    print(cmmn)"
   ]
  },
  {
   "cell_type": "code",
   "execution_count": 26,
   "id": "c22c28cb-eba2-4d72-811b-c107a0d0f8ab",
   "metadata": {},
   "outputs": [
    {
     "data": {
      "text/plain": [
       "11"
      ]
     },
     "execution_count": 26,
     "metadata": {},
     "output_type": "execute_result"
    }
   ],
   "source": [
    "len(binary)"
   ]
  },
  {
   "cell_type": "code",
   "execution_count": 47,
   "id": "64ec7b63-9ef7-4209-ac16-5d7843f91dac",
   "metadata": {},
   "outputs": [
    {
     "data": {
      "text/plain": [
       "nominal__spend_id  interval__temperature  nominal__job_industry  nominal__pref_profile  nominal__circumstance  nominal__restaurant_type  ordinal__income_range\n",
       "0                  40                     0                      0                      12                     1                         9                        1\n",
       "                                                                 15                     19                     2                         7                        1\n",
       "                                          3                      4                      2                      0                         3                        1\n",
       "                                                                 5                      8                      3                         3                        1\n",
       "                                                                 7                      2                      1                         3                        1\n",
       "                                                                                                                                                                 ..\n",
       "24                 89                     23                     6                      6                      3                         2                        1\n",
       "                                                                 12                     2                      2                         2                        1\n",
       "                                                                 13                     7                      1                         2                        1\n",
       "                                                                 15                     1                      4                         2                        1\n",
       "                                                                                        41                     2                         2                        1\n",
       "Name: dummy, Length: 12305, dtype: int64"
      ]
     },
     "execution_count": 47,
     "metadata": {},
     "output_type": "execute_result"
    }
   ],
   "source": [
    "X.groupby(tracker_7.nom_combi_min[-1])['dummy'].count()"
   ]
  },
  {
   "cell_type": "code",
   "execution_count": 46,
   "id": "2499b71b-304a-4b47-b8f6-aaf5b917a63e",
   "metadata": {},
   "outputs": [
    {
     "data": {
      "text/html": [
       "<div>\n",
       "<style scoped>\n",
       "    .dataframe tbody tr th:only-of-type {\n",
       "        vertical-align: middle;\n",
       "    }\n",
       "\n",
       "    .dataframe tbody tr th {\n",
       "        vertical-align: top;\n",
       "    }\n",
       "\n",
       "    .dataframe thead th {\n",
       "        text-align: right;\n",
       "    }\n",
       "</style>\n",
       "<table border=\"1\" class=\"dataframe\">\n",
       "  <thead>\n",
       "    <tr style=\"text-align: right;\">\n",
       "      <th></th>\n",
       "      <th>col_0</th>\n",
       "      <th>col_1</th>\n",
       "      <th>col_2</th>\n",
       "      <th>col_3</th>\n",
       "      <th>col_4</th>\n",
       "      <th>col_5</th>\n",
       "      <th>col_6</th>\n",
       "    </tr>\n",
       "  </thead>\n",
       "  <tbody>\n",
       "    <tr>\n",
       "      <th>0</th>\n",
       "      <td>0</td>\n",
       "      <td>40</td>\n",
       "      <td>0</td>\n",
       "      <td>8</td>\n",
       "      <td>2</td>\n",
       "      <td>2</td>\n",
       "      <td>9</td>\n",
       "    </tr>\n",
       "    <tr>\n",
       "      <th>1</th>\n",
       "      <td>0</td>\n",
       "      <td>40</td>\n",
       "      <td>0</td>\n",
       "      <td>14</td>\n",
       "      <td>1</td>\n",
       "      <td>1</td>\n",
       "      <td>3</td>\n",
       "    </tr>\n",
       "    <tr>\n",
       "      <th>2</th>\n",
       "      <td>0</td>\n",
       "      <td>40</td>\n",
       "      <td>1</td>\n",
       "      <td>0</td>\n",
       "      <td>8</td>\n",
       "      <td>2</td>\n",
       "      <td>3</td>\n",
       "    </tr>\n",
       "    <tr>\n",
       "      <th>3</th>\n",
       "      <td>0</td>\n",
       "      <td>40</td>\n",
       "      <td>1</td>\n",
       "      <td>12</td>\n",
       "      <td>2</td>\n",
       "      <td>4</td>\n",
       "      <td>3</td>\n",
       "    </tr>\n",
       "    <tr>\n",
       "      <th>4</th>\n",
       "      <td>0</td>\n",
       "      <td>40</td>\n",
       "      <td>3</td>\n",
       "      <td>5</td>\n",
       "      <td>20</td>\n",
       "      <td>1</td>\n",
       "      <td>3</td>\n",
       "    </tr>\n",
       "    <tr>\n",
       "      <th>...</th>\n",
       "      <td>...</td>\n",
       "      <td>...</td>\n",
       "      <td>...</td>\n",
       "      <td>...</td>\n",
       "      <td>...</td>\n",
       "      <td>...</td>\n",
       "      <td>...</td>\n",
       "    </tr>\n",
       "    <tr>\n",
       "      <th>5281</th>\n",
       "      <td>24</td>\n",
       "      <td>89</td>\n",
       "      <td>8</td>\n",
       "      <td>7</td>\n",
       "      <td>4</td>\n",
       "      <td>2</td>\n",
       "      <td>4</td>\n",
       "    </tr>\n",
       "    <tr>\n",
       "      <th>5282</th>\n",
       "      <td>24</td>\n",
       "      <td>89</td>\n",
       "      <td>8</td>\n",
       "      <td>11</td>\n",
       "      <td>1</td>\n",
       "      <td>0</td>\n",
       "      <td>4</td>\n",
       "    </tr>\n",
       "    <tr>\n",
       "      <th>5283</th>\n",
       "      <td>24</td>\n",
       "      <td>89</td>\n",
       "      <td>8</td>\n",
       "      <td>12</td>\n",
       "      <td>41</td>\n",
       "      <td>1</td>\n",
       "      <td>4</td>\n",
       "    </tr>\n",
       "    <tr>\n",
       "      <th>5284</th>\n",
       "      <td>24</td>\n",
       "      <td>89</td>\n",
       "      <td>15</td>\n",
       "      <td>13</td>\n",
       "      <td>41</td>\n",
       "      <td>2</td>\n",
       "      <td>4</td>\n",
       "    </tr>\n",
       "    <tr>\n",
       "      <th>5285</th>\n",
       "      <td>24</td>\n",
       "      <td>89</td>\n",
       "      <td>23</td>\n",
       "      <td>3</td>\n",
       "      <td>2</td>\n",
       "      <td>4</td>\n",
       "      <td>2</td>\n",
       "    </tr>\n",
       "  </tbody>\n",
       "</table>\n",
       "<p>5286 rows × 7 columns</p>\n",
       "</div>"
      ],
      "text/plain": [
       "     col_0 col_1 col_2 col_3 col_4 col_5 col_6\n",
       "0        0    40     0     8     2     2     9\n",
       "1        0    40     0    14     1     1     3\n",
       "2        0    40     1     0     8     2     3\n",
       "3        0    40     1    12     2     4     3\n",
       "4        0    40     3     5    20     1     3\n",
       "...    ...   ...   ...   ...   ...   ...   ...\n",
       "5281    24    89     8     7     4     2     4\n",
       "5282    24    89     8    11     1     0     4\n",
       "5283    24    89     8    12    41     1     4\n",
       "5284    24    89    15    13    41     2     4\n",
       "5285    24    89    23     3     2     4     2\n",
       "\n",
       "[5286 rows x 7 columns]"
      ]
     },
     "execution_count": 46,
     "metadata": {},
     "output_type": "execute_result"
    }
   ],
   "source": [
    "acc_idx = acc.index.to_flat_index().to_list()\n",
    "acc_eval_idx = acc_eval.index.to_flat_index().to_list()\n",
    "\n",
    "# gen_col_data(acc_eval_idx)\n",
    "\n",
    "            "
   ]
  }
 ],
 "metadata": {
  "kernelspec": {
   "display_name": "python (ML)",
   "language": "python",
   "name": "ml"
  },
  "language_info": {
   "codemirror_mode": {
    "name": "ipython",
    "version": 3
   },
   "file_extension": ".py",
   "mimetype": "text/x-python",
   "name": "python",
   "nbconvert_exporter": "python",
   "pygments_lexer": "ipython3",
   "version": "3.9.10"
  }
 },
 "nbformat": 4,
 "nbformat_minor": 5
}
