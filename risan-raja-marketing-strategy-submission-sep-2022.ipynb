{
 "cells": [
  {
   "cell_type": "code",
   "execution_count": 1,
   "id": "3896b925",
   "metadata": {
    "_cell_guid": "b1076dfc-b9ad-4769-8c92-a6c4dae69d19",
    "_uuid": "8f2839f25d086af736a60e9eeb907d3b93b6e0e5",
    "papermill": {
     "duration": 0.023308,
     "end_time": "2022-09-22T12:45:30.854323",
     "exception": false,
     "start_time": "2022-09-22T12:45:30.831015",
     "status": "completed"
    },
    "tags": []
   },
   "outputs": [
    {
     "name": "stderr",
     "output_type": "stream",
     "text": [
      "Intel(R) Extension for Scikit-learn* enabled (https://github.com/intel/scikit-learn-intelex)\n"
     ]
    }
   ],
   "source": [
    "import warnings\n",
    "import os\n",
    "import copy\n",
    "from sklearnex import patch_sklearn\n",
    "import numpy as np\n",
    "import pandas as pd\n",
    "from category_encoders import (\n",
    "    BackwardDifferenceEncoder,\n",
    "    BaseNEncoder,\n",
    "    BinaryEncoder,\n",
    "    CatBoostEncoder,\n",
    "    CountEncoder,\n",
    "    GLMMEncoder,\n",
    "    HelmertEncoder,\n",
    "    JamesSteinEncoder,\n",
    "    LeaveOneOutEncoder,\n",
    "    MEstimateEncoder,\n",
    "    SummaryEncoder,\n",
    "    TargetEncoder,\n",
    "    WOEEncoder,\n",
    ")\n",
    "import uuid\n",
    "from sklearn.experimental import enable_iterative_imputer\n",
    "from sklearn import set_config\n",
    "from sklearn.base import clone as model_clone\n",
    "from sklearn.cluster import *\n",
    "from sklearn.impute import *\n",
    "from sklearn.compose import *\n",
    "from sklearn.cross_decomposition import *\n",
    "from sklearn.decomposition import *\n",
    "from sklearn.ensemble import *\n",
    "from sklearn.feature_selection import *\n",
    "from sklearn.gaussian_process import *\n",
    "from sklearn.linear_model import *\n",
    "from sklearn.metrics import *\n",
    "from sklearn.model_selection import *\n",
    "from sklearn.multioutput import *\n",
    "from sklearn.multiclass import *\n",
    "from sklearn.naive_bayes import *\n",
    "from sklearn.neighbors import *\n",
    "from sklearn.neural_network import *\n",
    "from sklearn.pipeline import *\n",
    "from sklearn.preprocessing import *\n",
    "from sklearn.kernel_approximation import *\n",
    "from sklearn.svm import *\n",
    "from sklearn.tree import *\n",
    "from sklearn.utils import *\n",
    "from sklearn.dummy import *\n",
    "from sklearn.semi_supervised import *\n",
    "from sklearn.discriminant_analysis import *\n",
    "from sklearn.covariance import *\n",
    "from collections import Counter\n",
    "import sklearn\n",
    "from xgboost import XGBClassifier, XGBRFClassifier\n",
    "from sklearn.metrics import pairwise_distances\n",
    "from sklearn.metrics.pairwise import pairwise_kernels\n",
    "from sklearn.calibration import *\n",
    "import joblib\n",
    "from pprint import pprint as pp\n",
    "\n",
    "pd.options.compute.use_numba = True\n",
    "pd.options.compute.use_numexpr = True\n",
    "pd.options.compute.use_bottleneck = True\n",
    "pd.options.display.max_columns = 90\n",
    "set_config(display=\"diagram\")\n",
    "warnings.filterwarnings(\"ignore\")\n",
    "import pickle\n",
    "from collections import defaultdict\n",
    "import matplotlib.pyplot as plt\n",
    "from imblearn.combine import SMOTEENN, SMOTETomek\n",
    "from imblearn.under_sampling import NearMiss, RandomUnderSampler\n",
    "from imblearn.pipeline import make_pipeline as make_imb_pipeline\n",
    "from imblearn.ensemble import BalancedRandomForestClassifier\n",
    "from imblearn.under_sampling import InstanceHardnessThreshold\n",
    "from imblearn.over_sampling import (\n",
    "    ADASYN,\n",
    "    SMOTE,\n",
    "    RandomOverSampler,\n",
    "    SVMSMOTE,\n",
    "    SMOTENC,\n",
    "    SMOTEN,\n",
    "    BorderlineSMOTE,\n",
    "    KMeansSMOTE,\n",
    ")\n",
    "\n",
    "%matplotlib inline\n",
    "plt.style.use(\"fivethirtyeight\")\n",
    "\n",
    "import seaborn as sns\n",
    "\n",
    "sns.set()\n",
    "from joblib import parallel_backend\n",
    "from joblib.memory import Memory\n",
    "\n",
    "# patch_sklearn()\n",
    "KAGGLE_ENV = 1\n",
    "DATA_INPUT = \"/kaggle/input/marketing-strategy-personalised-offer/\"\n",
    "DATA_OUTPUT = \"/kaggle/working/\"\n",
    "cwd = os.path.abspath(os.getcwd())\n",
    "if \"mlop3n/Pycharm\" in cwd or \"u164131\" in cwd:\n",
    "    KAGGLE_ENV = 0\n",
    "    DATA_INPUT = \"kaggle/input/marketing-strategy-personalised-offer/\"\n",
    "    DATA_OUTPUT = \"kaggle/working/\"\n",
    "CACHE = Memory(DATA_OUTPUT + \"joblib\", verbose=0)\n",
    "patch_sklearn()\n",
    "\n",
    "data = pd.read_csv(DATA_INPUT + \"train_data.csv\")\n",
    "eval_data = pd.read_csv(DATA_INPUT + \"test_data.csv\")\n",
    "\n",
    "\n",
    "def gen_train_test(X, y, test_size):\n",
    "    X_train, X_test, y_train, y_test = train_test_split(\n",
    "        X, y, test_size=test_size, stratify=y, random_state=10\n",
    "    )\n",
    "    return X_train, X_test, y_train, y_test\n",
    "\n",
    "\n",
    "def quick_test(X):\n",
    "    clfs = [\n",
    "        RandomForestClassifier(class_weight=\"balanced_subsample\", random_state=42),\n",
    "        DecisionTreeClassifier(class_weight=\"balanced\", random_state=42),\n",
    "        HistGradientBoostingClassifier(random_state=42),\n",
    "        LogisticRegressionCV(max_iter=10000, class_weight=\"balanced\", random_state=42),\n",
    "    ]\n",
    "    y = data.target\n",
    "    X_train, X_test, y_train, y_test = gen_train_test(X, y, test_size=0.5)\n",
    "    for clf in clfs:\n",
    "        y_pred = clf.fit(X_train, y_train).predict(X_test)\n",
    "        score = f1_score(y_test, y_pred, average=\"macro\")\n",
    "        print(f\"{clf.__class__.__name__} :: {score}\")"
   ]
  },
  {
   "cell_type": "code",
   "execution_count": null,
   "id": "bb3eefd0",
   "metadata": {
    "papermill": {
     "duration": 0.205848,
     "end_time": "2022-09-22T12:45:31.063261",
     "exception": false,
     "start_time": "2022-09-22T12:45:30.857413",
     "status": "completed"
    },
    "tags": []
   },
   "outputs": [],
   "source": [
    "# _ = data.isna().sum().plot(kind=\"bar\", rot=90, logy=True, figsize=(10, 8))\n",
    "# data.nunique()\n",
    "n_c = [\n",
    "    \"Job/Job Industry\",\n",
    "    \"Marital Status\",\n",
    "    \"restaurant type\",\n",
    "    \"Customer type\",\n",
    "    \"Climate\",\n",
    "    \"Qualification\",\n",
    "    \"drop location\",\n",
    "    \"car\",\n",
    "]\n",
    "# for c in n_c:\n",
    "#     print(c,\"\\t:\\t\",data[c].unique(),'\\n')"
   ]
  },
  {
   "cell_type": "markdown",
   "id": "0e40fb97-f7dd-4911-95bc-3f78f7f0af61",
   "metadata": {},
   "source": [
    "```text\n",
    "Job/Job Industry \t:\t ['Unemployed' 'Arts Design Entertainment Sports & Media' 'Sales & Related'\n",
    " 'Student' 'Business & Financial' 'Computer & Mathematical'\n",
    " 'Office & Administrative Support' 'Management' 'Healthcare Support'\n",
    " 'Life Physical Social Science' 'Installation Maintenance & Repair'\n",
    " 'Legal' 'Community & Social Services' 'Education&Training&Library'\n",
    " 'Construction & Extraction' 'Healthcare Practitioners & Technical'\n",
    " 'Transportation & Material Moving' 'Retired' 'Architecture & Engineering'\n",
    " 'Production Occupations' 'Farming Fishing & Forestry'\n",
    " 'Protective Service' 'Personal Care & Service'\n",
    " 'Food Preparation & Serving Related'\n",
    " 'Building & Grounds Cleaning & Maintenance'] \n",
    "\n",
    "Marital Status \t:\t ['Married partner' 'Single' 'Divorced' 'Unmarried partner' 'Widowed'] \n",
    "\n",
    "restaurant type \t:\t ['4 star restaurant' 'Take-away restaurant' 'Cold drinks'\n",
    " 'Restaurant with pub' '2 star restaurant'] \n",
    "\n",
    "Customer type \t:\t ['Individual' 'With Family' 'With Kids' 'With Colleagues'] \n",
    "\n",
    "Climate \t:\t ['Spring' 'Summer' 'Winter'] \n",
    "\n",
    "Qualification \t:\t ['Bachelors degree' 'Some college - no degree'\n",
    " 'Graduate degree (Masters or Doctorate)' 'Associates degree'\n",
    " 'High School Graduate' 'Some High School'] \n",
    "\n",
    "drop location \t:\t ['Location B' 'Location A' 'Location C'] \n",
    "\n",
    "car \t:\t [nan 'Mazda5' 'Car that is too old to install Onstar :D' 'crossover'\n",
    " 'Scooter and motorcycle' 'do not drive'] \n",
    "\n",
    "```"
   ]
  },
  {
   "cell_type": "markdown",
   "id": "f59469af",
   "metadata": {
    "papermill": {
     "duration": 0.002514,
     "end_time": "2022-09-22T12:45:31.068578",
     "exception": false,
     "start_time": "2022-09-22T12:45:31.066064",
     "status": "completed"
    },
    "tags": []
   },
   "source": [
    "### Data Cleaning If possible Reload Last Saved Data"
   ]
  },
  {
   "cell_type": "code",
   "execution_count": 290,
   "id": "a818cc1e",
   "metadata": {
    "execution": {
     "iopub.execute_input": "2022-09-25T10:36:34.630219Z",
     "iopub.status.busy": "2022-09-25T10:36:34.629639Z",
     "iopub.status.idle": "2022-09-25T10:36:39.475459Z",
     "shell.execute_reply": "2022-09-25T10:36:39.474782Z",
     "shell.execute_reply.started": "2022-09-25T10:36:34.630172Z"
    },
    "papermill": {
     "duration": 14.904815,
     "end_time": "2022-09-22T12:45:45.975943",
     "exception": false,
     "start_time": "2022-09-22T12:45:31.071128",
     "status": "completed"
    },
    "tags": []
   },
   "outputs": [
    {
     "name": "stdin",
     "output_type": "stream",
     "text": [
      "Do you want to use new data? n\n"
     ]
    }
   ],
   "source": [
    "data = pd.read_csv(DATA_INPUT + \"train_data.csv\")\n",
    "eval_data = pd.read_csv(DATA_INPUT + \"test_data.csv\")\n",
    "ques = \"Do you want to use new data?\"\n",
    "ans = input(prompt=ques)\n",
    "if ans.lower() == \"y\":\n",
    "\n",
    "    def convert_to_hours(row):\n",
    "        if \"hours\" in row[\"offer expiration\"]:\n",
    "            #         row['offer expiration'] = int(row['offer expiration'][:-5])\n",
    "            row[\"offer expiration\"] = 0\n",
    "        elif \"days\" in row[\"offer expiration\"]:\n",
    "            #         row['offer expiration'] = int(row['offer expiration'][:-4])*24\n",
    "            row[\"offer expiration\"] = 1\n",
    "        return row\n",
    "\n",
    "    def save_data():\n",
    "        global data, eval_data\n",
    "        data.to_parquet(DATA_OUTPUT + \"data.parquet\")\n",
    "        eval_data.to_parquet(DATA_OUTPUT + \"eval_data.parquet\")\n",
    "\n",
    "    data = data.apply(convert_to_hours, axis=1)\n",
    "    eval_data = eval_data.apply(convert_to_hours, axis=1)\n",
    "\n",
    "    def pythonise_col_names(df: pd.DataFrame):\n",
    "        col_names = list(df.columns)\n",
    "        rename_stubs = {}\n",
    "        for x in col_names:\n",
    "            if x == \"Offer Accepted\":\n",
    "                r = \"target\"\n",
    "                rename_stubs[x] = r\n",
    "            elif \"/\" in x:\n",
    "                r = x.split(\"/\")[1]\n",
    "                r = r.replace(\" \", \"_\").lower()\n",
    "                rename_stubs[x] = r\n",
    "            elif \"-\" in x:\n",
    "                r = x.replace(\"-\", \"_\").lower()\n",
    "                r = r.replace(\" \", \"_\").lower()\n",
    "                rename_stubs[x] = r\n",
    "            elif \" \" in x:\n",
    "                r = x.replace(\" \", \"_\").lower()\n",
    "                rename_stubs[x] = r\n",
    "            else:\n",
    "                r = x.lower()\n",
    "                rename_stubs[x] = r\n",
    "        return rename_stubs\n",
    "\n",
    "    data.rename(pythonise_col_names(data), inplace=True, axis=1)\n",
    "    eval_data.rename(pythonise_col_names(eval_data), inplace=True, axis=1)\n",
    "    gender_code = {\"Male\": 0, \"Female\": 1}\n",
    "\n",
    "    def binarize_gender(row):\n",
    "        global gender_code\n",
    "        row[\"gender\"] = gender_code[row[\"gender\"]]\n",
    "        return row\n",
    "\n",
    "    data = data.apply(binarize_gender, axis=1)\n",
    "    eval_data = eval_data.apply(binarize_gender, axis=1)\n",
    "\n",
    "    ages_ord = [\"below21\", \"21\", \"26\", \"31\", \"36\", \"41\", \"46\", \"50plus\"]\n",
    "    ordinal_age_codes = {x: idx + 1 for idx, x in enumerate(ages_ord)}\n",
    "    income_codes = {\n",
    "        \"Less than ₹12500\": 1,\n",
    "        \"₹12500 - ₹24999\": 2,\n",
    "        \"₹25000 - ₹37499\": 3,\n",
    "        \"₹37500 - ₹49999\": 4,\n",
    "        \"₹50000 - ₹62499\": 5,\n",
    "        \"₹62500 - ₹74999\": 6,\n",
    "        \"₹75000 - ₹87499\": 7,\n",
    "        \"₹87500 - ₹99999\": 8,\n",
    "        \"₹100000 or More\": 9,\n",
    "    }\n",
    "    ordinal_quali_codes = {\n",
    "        \"Bachelors degree\": 5,\n",
    "        \"Some college - no degree\": 3,\n",
    "        \"Graduate degree (Masters or Doctorate)\": 6,\n",
    "        \"Associates degree\": 4,\n",
    "        \"High School Graduate\": 2,\n",
    "        \"Some High School\": 1,\n",
    "    }\n",
    "    data[\"ordinal__income_range\"] = 0\n",
    "    eval_data[\"ordinal__income_range\"] = 0\n",
    "    data[\"ordinal__age\"] = 0\n",
    "    eval_data[\"ordinal__age\"] = 0\n",
    "    data[\"ordinal__qualif\"] = 0\n",
    "    eval_data[\"ordinal__qualif\"] = 0\n",
    "\n",
    "    def codify_special_ordinal_range(row):\n",
    "        global income_codes, ordinal_age_codes\n",
    "        row[\"ordinal__income_range\"] = income_codes[row[\"income_range\"]]\n",
    "        row[\"ordinal__age\"] = ordinal_age_codes[row[\"age\"]]\n",
    "        row[\"ordinal__qualif\"] = ordinal_quali_codes[row[\"qualification\"]]\n",
    "        return row\n",
    "\n",
    "    data = data.apply(codify_special_ordinal_range, axis=1)\n",
    "    eval_data = eval_data.apply(codify_special_ordinal_range, axis=1)\n",
    "\n",
    "    ordinal_category_codes = {\n",
    "        \"4~8\": 4,\n",
    "        \"less1\": 2,\n",
    "        \"never\": 1,\n",
    "        \"1~3\": 3,\n",
    "        \"gt8\": 5,\n",
    "        np.nan: np.nan,\n",
    "    }\n",
    "\n",
    "    # data = data.apply(codify_cold_drink_consumption,axis=1)\n",
    "    # eval_data = eval_data.apply(codify_cold_drink_consumption,axis=1)\n",
    "    ord_cols = [\n",
    "        \"restaur_spend_less_than20\",\n",
    "        \"no_take_aways\",\n",
    "        \"restaur_spend_greater_than20\",\n",
    "        \"no_visited_bars\",\n",
    "        \"no_visited_cold_drinks\",\n",
    "    ]\n",
    "    col_ord_names = [\"ordinal__\" + x for x in ord_cols]\n",
    "    data[col_ord_names] = 0\n",
    "    eval_data[col_ord_names] = 0\n",
    "\n",
    "    def codify_ordinal_columns(row):\n",
    "        global col_ord_names, ordinal_category_codes, ord_cols\n",
    "        for ord_col, col_ord_name in zip(ord_cols, col_ord_names):\n",
    "            try:\n",
    "                row[col_ord_name] = int(ordinal_category_codes[row[ord_col]])\n",
    "            except ValueError:\n",
    "                row[col_ord_name] = ordinal_category_codes[row[ord_col]]\n",
    "        return row\n",
    "\n",
    "    data = data.apply(codify_ordinal_columns, axis=1)\n",
    "    eval_data = eval_data.apply(codify_ordinal_columns, axis=1)\n",
    "\n",
    "    \"\"\"\n",
    "    Car Feature:\n",
    "    Label NaN as unknown for now\n",
    "    \"\"\"\n",
    "    data.car.fillna(\"unknown\", inplace=True)\n",
    "    eval_data.car.fillna(\"unknown\", inplace=True)\n",
    "\n",
    "    nominal_cs = [\n",
    "        \"restaurant_type\",\n",
    "        \"marital_status\",\n",
    "        #         \"climate\",\n",
    "        \"drop_location\",\n",
    "        \"job_industry\",\n",
    "        \"customer_type\",\n",
    "        \"car\",\n",
    "    ]\n",
    "    nominal_col_names = [\"nominal__\" + x for x in nominal_cs]\n",
    "    master_nominals = pd.concat(\n",
    "        [data[nominal_cs], eval_data[nominal_cs]], ignore_index=True, axis=0\n",
    "    )\n",
    "    nominal_encoder = {nc: {} for nc in nominal_cs}\n",
    "    for c in nominal_cs:\n",
    "        unique_vals = list(master_nominals[c].unique())\n",
    "        nominal_codes = {x: idx for idx, x in enumerate(unique_vals)}\n",
    "        nominal_encoder[c] = nominal_codes\n",
    "    data[nominal_col_names] = 0\n",
    "    eval_data[nominal_col_names] = 0\n",
    "    data[\"interval__season\"] = 0\n",
    "    eval_data[\"interval__season\"] = 0\n",
    "    season_code = {\"Spring\": 1, \"Summer\": 2, \"Winter\": 3}\n",
    "\n",
    "    def assign_numeric_seasons(row):\n",
    "        row[\"interval__season\"] = season_code[row[\"climate\"]]\n",
    "        return row\n",
    "\n",
    "    data = data.apply(assign_numeric_seasons, axis=1)\n",
    "    eval_data = eval_data.apply(assign_numeric_seasons, axis=1)\n",
    "\n",
    "    def codify_nominal_columns(row):\n",
    "        global nominal_col_names, nominal_encoder, nominal_cs\n",
    "        for nom_col, col_nom_name in zip(nominal_cs, nominal_col_names):\n",
    "            try:\n",
    "                row[col_nom_name] = int(nominal_encoder[nom_col][row[nom_col]])\n",
    "            except ValueError:\n",
    "                row[col_nom_name] = nominal_encoder[nom_col][row[nom_col]]\n",
    "        return row\n",
    "\n",
    "    data = data.apply(codify_nominal_columns, axis=1)\n",
    "    eval_data = eval_data.apply(codify_nominal_columns, axis=1)\n",
    "\n",
    "    def drop_const_and_enc_columns(df):\n",
    "        cols_to_drop = [\n",
    "            \"restaur_spend_less_than20\",\n",
    "            \"no_take_aways\",\n",
    "            \"restaur_spend_greater_than20\",\n",
    "            \"no_visited_bars\",\n",
    "            \"no_visited_cold_drinks\",\n",
    "            \"restaurant_type\",\n",
    "            \"marital_status\",\n",
    "            \"climate\",\n",
    "            \"qualification\",\n",
    "            \"drop_location\",\n",
    "            \"job_industry\",\n",
    "            \"customer_type\",\n",
    "            \"car\",\n",
    "            \"income_range\",\n",
    "            \"travelled_more_than_5mins_for_offer\",\n",
    "            \"age\",\n",
    "        ]\n",
    "        df = df.drop(cols_to_drop, axis=1)\n",
    "        return df\n",
    "\n",
    "    data = drop_const_and_enc_columns(data)\n",
    "    eval_data = drop_const_and_enc_columns(eval_data)\n",
    "\n",
    "    data_original_col_order = [\n",
    "        \"offer_expiration\",\n",
    "        \"ordinal__income_range\",\n",
    "        \"ordinal__no_visited_cold_drinks\",\n",
    "        \"travelled_more_than_15mins_for_offer\",\n",
    "        \"ordinal__restaur_spend_less_than20\",\n",
    "        \"nominal__marital_status\",\n",
    "        \"nominal__restaurant_type\",\n",
    "        \"ordinal__age\",\n",
    "        \"prefer_western_over_chinese\",\n",
    "        \"travelled_more_than_25mins_for_offer\",\n",
    "        \"ordinal__no_visited_bars\",\n",
    "        \"gender\",\n",
    "        \"nominal__car\",\n",
    "        \"restuarant_same_direction_house\",\n",
    "        \"cooks_regularly\",\n",
    "        \"nominal__customer_type\",\n",
    "        \"ordinal__qualif\",\n",
    "        \"is_foodie\",\n",
    "        \"ordinal__no_take_aways\",\n",
    "        \"nominal__job_industry\",\n",
    "        \"restuarant_opposite_direction_house\",\n",
    "        \"has_children\",\n",
    "        \"visit_restaurant_with_rating_(avg)\",\n",
    "        \"temperature\",\n",
    "        \"ordinal__restaur_spend_greater_than20\",\n",
    "        \"travel_time\",\n",
    "        \"interval__season\",\n",
    "        \"nominal__drop_location\",\n",
    "        \"prefer_home_food\",\n",
    "        \"target\",\n",
    "    ]\n",
    "    eval_data_original_col_order = copy.deepcopy(data_original_col_order)\n",
    "    eval_data_original_col_order.remove(\"target\")\n",
    "\n",
    "    data = data.loc[:, data_original_col_order]\n",
    "    eval_data = eval_data.loc[:, eval_data_original_col_order]\n",
    "    binary_features = [\n",
    "        \"offer_expiration\",\n",
    "        \"travelled_more_than_15mins_for_offer\",\n",
    "        \"prefer_western_over_chinese\",\n",
    "        \"travelled_more_than_25mins_for_offer\",\n",
    "        \"restuarant_same_direction_house\",\n",
    "        \"cooks_regularly\",\n",
    "        \"is_foodie\",\n",
    "        \"restuarant_opposite_direction_house\",\n",
    "        \"has_children\",\n",
    "        \"prefer_home_food\",\n",
    "        \"gender\",\n",
    "    ]\n",
    "    b_f_rn = {x: \"binary__\" + x for x in binary_features}\n",
    "    data.rename(b_f_rn, axis=1, inplace=True)\n",
    "    eval_data.rename(b_f_rn, axis=1, inplace=True)\n",
    "    remaining_ordinals = {\n",
    "        \"visit_restaurant_with_rating_(avg)\": \"ordinal__type_of_rest_rating\",\n",
    "        \"temperature\": \"interval__temperature\",\n",
    "        \"travel_time\": \"interval__travel_time\",\n",
    "    }\n",
    "\n",
    "    def rename_remaining_ord(df):\n",
    "        df = df.rename(remaining_ordinals, axis=1)\n",
    "        return df\n",
    "\n",
    "    data = rename_remaining_ord(data)\n",
    "    eval_data = rename_remaining_ord(eval_data)\n",
    "\n",
    "    target_codes = {\"Yes\": 1, \"No\": 0}\n",
    "\n",
    "    def binarize_target(row):\n",
    "        global target_codes\n",
    "        row[\"target\"] = target_codes[row[\"target\"]]\n",
    "        return row\n",
    "\n",
    "    data = data.apply(binarize_target, axis=1)\n",
    "    X = data[eval_data.columns]\n",
    "    y = data.target\n",
    "    X_eval = eval_data\n",
    "\n",
    "    def impute_values(X, y, X_eval):\n",
    "        imputer = IterativeImputer(\n",
    "            estimator=RandomForestClassifier(\n",
    "                class_weight=\"balanced\", random_state=42, n_jobs=-1\n",
    "            ),\n",
    "            sample_posterior=False,\n",
    "            initial_strategy=\"most_frequent\",\n",
    "            random_state=42,\n",
    "        )\n",
    "        #     data.isna().sum()\n",
    "\n",
    "        with parallel_backend(\"threading\", n_jobs=24):\n",
    "            data_enc = imputer.fit_transform(X)\n",
    "            eval_data_enc = imputer.transform(eval_data)\n",
    "        return data_enc, eval_data_enc\n",
    "\n",
    "    data_enc, eval_data_enc = impute_values(X, y, X_eval)\n",
    "    data.loc[:, eval_data.columns] = data_enc\n",
    "    eval_data.loc[:, :] = eval_data_enc\n",
    "    data = data.astype(np.uint32)\n",
    "    eval_data = eval_data.astype(np.uint32)\n",
    "    save_data()\n",
    "else:\n",
    "    data = pd.read_parquet(DATA_OUTPUT + \"data.parquet\")\n",
    "    eval_data = pd.read_parquet(DATA_OUTPUT + \"eval_data.parquet\")\n",
    "\n",
    "\n",
    "\"\"\"\n",
    "Degree Of Closeness Rather than Nominal Drop Variable.\n",
    "\"\"\"\n",
    "\n",
    "closeness_ranks = {0: 3, 1: 2, 2: 1}\n",
    "\n",
    "\n",
    "def rank_closeness(row):\n",
    "    \"\"\"\n",
    "    It makes sense to rename the nominal drop Location to much more meaningful\n",
    "    Ordinal Variable based on General Closeness to target Pop.\n",
    "    \"\"\"\n",
    "    row[\"nominal__drop_location\"] = closeness_ranks[row[\"nominal__drop_location\"]]\n",
    "    return row\n",
    "\n",
    "\n",
    "data = data.apply(rank_closeness, axis=1)\n",
    "eval_data = eval_data.apply(rank_closeness, axis=1)\n",
    "data.rename({\"nominal__drop_location\": \"ordinal__dest_distance\"}, axis=1, inplace=True)\n",
    "eval_data.rename(\n",
    "    {\"nominal__drop_location\": \"ordinal__dest_distance\"}, axis=1, inplace=True\n",
    ")\n",
    "\n",
    "\n",
    "def html_px(chart):\n",
    "    f_name = str(uuid.uuid1())[:8] + \".html\"\n",
    "    f_dest = \"/home/u164131/msiit/charts/\"\n",
    "    with open(f_dest + f_name, \"w+\") as fp:\n",
    "        fp.write(chart.to_html())\n",
    "    return f_dest + f_name\n",
    "\n",
    "\n",
    "\"\"\"\n",
    "Variable Groups\n",
    "\"\"\"\n",
    "nominal = [x for x in eval_data.columns if \"nominal_\" in x]\n",
    "ordinal = [x for x in eval_data.columns if \"ordinal_\" in x]\n",
    "binary = [x for x in eval_data.columns if \"binary_\" in x]\n",
    "interval = [x for x in eval_data.columns if \"interval_\" in x]\n",
    "\n",
    "bio = [\n",
    "    \"binary__gender\",\n",
    "    \"ordinal__age\",\n",
    "]\n",
    "personal_info = [\n",
    "    \"nominal__marital_status\",\n",
    "    \"binary__has_children\",\n",
    "    \"nominal__customer_type\",\n",
    "]\n",
    "prefs = [\n",
    "    \"binary__prefer_home_food\",\n",
    "    \"binary__is_foodie\",\n",
    "    \"binary__prefer_western_over_chinese\",\n",
    "    \"binary__cooks_regularly\",\n",
    "]\n",
    "distance = [\n",
    "    \"binary__travelled_more_than_15mins_for_offer\",\n",
    "    \"binary__travelled_more_than_25mins_for_offer\",\n",
    "    \"binary__restuarant_opposite_direction_house\",\n",
    "    \"binary__restuarant_same_direction_house\",\n",
    "]\n",
    "usage_info = [\n",
    "    \"ordinal__no_visited_cold_drinks\",\n",
    "    \"ordinal__restaur_spend_less_than20\",\n",
    "    \"ordinal__restaur_spend_greater_than20\",\n",
    "    \"ordinal__no_take_aways\",\n",
    "    \"ordinal__type_of_rest_rating\",\n",
    "    \"ordinal__no_visited_bars\",\n",
    "]\n",
    "\n",
    "biz_info = [\n",
    "    \"nominal__restaurant_type\",\n",
    "    \"binary__offer_expiration\",\n",
    "]\n",
    "dest = [\n",
    "    \"nominal__drop_location\",\n",
    "    \"interval__travel_time\",\n",
    "]\n",
    "weather = [\"interval__season\", \"interval__temperature\"]\n",
    "wealth = [\n",
    "    \"nominal__car\",\n",
    "    \"nominal__job_industry\",\n",
    "    \"ordinal__income_range\",\n",
    "    \"ordinal__qualif\",\n",
    "]\n",
    "f_groups = {\n",
    "    \"bio\": bio,\n",
    "    \"personal_info\": personal_info,\n",
    "    \"prefs\": prefs,\n",
    "    \"distance\": distance,\n",
    "    \"usage_info\": usage_info,\n",
    "    \"biz_info\": biz_info,\n",
    "    \"dest\": dest,\n",
    "    \"weather\": weather,\n",
    "    \"wealth\": wealth,\n",
    "}"
   ]
  },
  {
   "cell_type": "code",
   "execution_count": 291,
   "id": "f88ea1d5",
   "metadata": {
    "execution": {
     "iopub.execute_input": "2022-09-25T10:36:46.837924Z",
     "iopub.status.busy": "2022-09-25T10:36:46.837480Z",
     "iopub.status.idle": "2022-09-25T10:36:46.847027Z",
     "shell.execute_reply": "2022-09-25T10:36:46.845860Z",
     "shell.execute_reply.started": "2022-09-25T10:36:46.837879Z"
    },
    "papermill": {
     "duration": 0.002408,
     "end_time": "2022-09-22T12:45:45.981287",
     "exception": false,
     "start_time": "2022-09-22T12:45:45.978879",
     "status": "completed"
    },
    "tags": []
   },
   "outputs": [],
   "source": [
    "X = data[eval_data.columns]\n",
    "y = data.target\n",
    "X_eval = eval_data"
   ]
  },
  {
   "cell_type": "code",
   "execution_count": 285,
   "id": "a1f6e2e1-7365-4696-b5ca-f4c14cbbbcd5",
   "metadata": {
    "execution": {
     "iopub.execute_input": "2022-09-25T10:35:07.529847Z",
     "iopub.status.busy": "2022-09-25T10:35:07.529253Z",
     "iopub.status.idle": "2022-09-25T10:35:07.606279Z",
     "shell.execute_reply": "2022-09-25T10:35:07.605692Z",
     "shell.execute_reply.started": "2022-09-25T10:35:07.529776Z"
    },
    "tags": []
   },
   "outputs": [],
   "source": [
    "related_features = (((data.corr().abs() > 0.3).sum(axis=0)) > 1).to_dict()\n",
    "relf = []\n",
    "\n",
    "# print(\"Features that have Linear or Non Linear Relationships\\n\\n\".upper())\n",
    "\n",
    "for k, v in related_features.items():\n",
    "    if v:\n",
    "        relf.append(k)\n",
    "crr = data.corr()\n",
    "relations = {f: {} for f in relf}\n",
    "for f in relf:\n",
    "    f_crr = crr[f].abs()\n",
    "    f_rel = crr[f][f_crr[f_crr > 0.3].index].to_dict()\n",
    "    del f_rel[f]\n",
    "    relations[f] = f_rel"
   ]
  },
  {
   "cell_type": "code",
   "execution_count": 286,
   "id": "38334774-2d4b-47af-99f6-4f521857094c",
   "metadata": {
    "execution": {
     "iopub.execute_input": "2022-09-25T10:35:09.654647Z",
     "iopub.status.busy": "2022-09-25T10:35:09.654236Z",
     "iopub.status.idle": "2022-09-25T10:35:09.670044Z",
     "shell.execute_reply": "2022-09-25T10:35:09.668810Z",
     "shell.execute_reply.started": "2022-09-25T10:35:09.654603Z"
    },
    "tags": []
   },
   "outputs": [
    {
     "data": {
      "text/plain": [
       "nominal__marital_status      5\n",
       "nominal__restaurant_type     5\n",
       "nominal__car                 6\n",
       "nominal__customer_type       4\n",
       "nominal__job_industry       25\n",
       "nominal__drop_location       3\n",
       "dtype: int64"
      ]
     },
     "execution_count": 286,
     "metadata": {},
     "output_type": "execute_result"
    }
   ],
   "source": [
    "len(nominal), len(ordinal), len(binary)\n",
    "X[nominal].nunique()"
   ]
  },
  {
   "cell_type": "code",
   "execution_count": 292,
   "id": "7c497f72-d47c-426e-b232-07fbc08de33a",
   "metadata": {
    "execution": {
     "iopub.execute_input": "2022-09-25T10:36:49.282436Z",
     "iopub.status.busy": "2022-09-25T10:36:49.281968Z",
     "iopub.status.idle": "2022-09-25T10:36:49.334717Z",
     "shell.execute_reply": "2022-09-25T10:36:49.334209Z",
     "shell.execute_reply.started": "2022-09-25T10:36:49.282392Z"
    },
    "tags": []
   },
   "outputs": [
    {
     "data": {
      "text/plain": [
       "binary__travelled_more_than_25mins_for_offer   -0.082442\n",
       "binary__travelled_more_than_15mins_for_offer   -0.067833\n",
       "binary__has_children                           -0.043600\n",
       "ordinal__age                                   -0.043015\n",
       "ordinal__qualif                                -0.039262\n",
       "binary__gender                                 -0.028428\n",
       "binary__restuarant_opposite_direction_house    -0.018697\n",
       "ordinal__income_range                          -0.012429\n",
       "nominal__job_industry                          -0.010229\n",
       "ordinal__dest_distance                         -0.007921\n",
       "nominal__car                                   -0.002985\n",
       "binary__prefer_western_over_chinese            -0.001829\n",
       "binary__cooks_regularly                         0.000035\n",
       "ordinal__type_of_rest_rating                    0.004607\n",
       "binary__restuarant_same_direction_house         0.006482\n",
       "binary__is_foodie                               0.006542\n",
       "binary__prefer_home_food                        0.008916\n",
       "interval__travel_time                           0.011328\n",
       "interval__season                                0.014389\n",
       "ordinal__no_take_aways                          0.017245\n",
       "nominal__marital_status                         0.026531\n",
       "nominal__restaurant_type                        0.028094\n",
       "ordinal__restaur_spend_less_than20              0.031830\n",
       "interval__temperature                           0.043510\n",
       "ordinal__restaur_spend_greater_than20           0.050696\n",
       "ordinal__no_visited_bars                        0.053044\n",
       "nominal__customer_type                          0.063102\n",
       "binary__offer_expiration                        0.068488\n",
       "ordinal__no_visited_cold_drinks                 0.081671\n",
       "dtype: float64"
      ]
     },
     "execution_count": 292,
     "metadata": {},
     "output_type": "execute_result"
    }
   ],
   "source": [
    "# Climate     :     ['Spring' 'Summer' 'Winter']\n",
    "_ = X.corrwith(y, method=\"kendall\").sort_values()\n",
    "_\n",
    "# .plot(kind='bar', rot=90)"
   ]
  },
  {
   "cell_type": "markdown",
   "id": "42c7fae6-f63a-4ef5-9f58-025e0bbad284",
   "metadata": {},
   "source": [
    "### Polynominal Feature Generation and Variance Filtering"
   ]
  },
  {
   "cell_type": "code",
   "execution_count": 36,
   "id": "28ef32b7-2d5f-4233-9481-136ffdfad233",
   "metadata": {
    "execution": {
     "iopub.execute_input": "2022-09-25T07:54:41.983738Z",
     "iopub.status.busy": "2022-09-25T07:54:41.983324Z",
     "iopub.status.idle": "2022-09-25T07:55:35.134864Z",
     "shell.execute_reply": "2022-09-25T07:55:35.133628Z",
     "shell.execute_reply.started": "2022-09-25T07:54:41.983694Z"
    },
    "tags": []
   },
   "outputs": [
    {
     "name": "stdin",
     "output_type": "stream",
     "text": [
      "Do you want to use new data? y\n"
     ]
    }
   ],
   "source": [
    "X = data[eval_data.columns]\n",
    "y = data.target\n",
    "X_eval = eval_data\n",
    "\n",
    "\n",
    "def gen_poly_variations(X, X_eval):\n",
    "    poly_mutex = PolynomialFeatures(degree=4, include_bias=False, interaction_only=True)\n",
    "    poly_mutex.fit(X)\n",
    "    poly_f_data = pd.DataFrame(\n",
    "        poly_mutex.transform(X), columns=poly_mutex.get_feature_names_out()\n",
    "    )\n",
    "    poly_f_eval_data = pd.DataFrame(\n",
    "        poly_mutex.transform(X_eval), columns=poly_mutex.get_feature_names_out()\n",
    "    )\n",
    "    vr = VarianceThreshold()\n",
    "    vr.fit(poly_f_data)\n",
    "    poly_f_data = pd.DataFrame(\n",
    "        vr.transform(poly_f_data), columns=vr.get_feature_names_out()\n",
    "    )\n",
    "    poly_f_eval_data = pd.DataFrame(\n",
    "        vr.transform(poly_f_eval_data), columns=vr.get_feature_names_out()\n",
    "    )\n",
    "    poly_f_data.to_parquet(\"poly_train_4.parquet\", compression=\"brotli\")\n",
    "    poly_f_eval_data.to_parquet(\"poly_eval_4.parquet\", compression=\"brotli\")\n",
    "    return poly_f_data, poly_f_eval_data\n",
    "\n",
    "\n",
    "ques = \"Do you want to use new data?\"\n",
    "ans = input(prompt=ques)\n",
    "if ans.lower() == \"y\":\n",
    "    poly_f_data, poly_f_eval_data = gen_poly_variations(X, X_eval)\n",
    "else:\n",
    "    poly_f_data = pd.read_parquet(\"poly_train_4.parquet\")\n",
    "    poly_f_eval_data = pd.read_parquet(\"poly_eval_4.parquet\")"
   ]
  },
  {
   "cell_type": "code",
   "execution_count": null,
   "id": "032a4bef-5fc6-4f64-a34f-25db80abb17c",
   "metadata": {
    "tags": []
   },
   "outputs": [],
   "source": [
    "_ = (\n",
    "    poly_f_data.corrwith(y, method=\"kendall\")\n",
    "    .abs()\n",
    "    .sort_values(ascending=False)\n",
    "    .plot(rot=90)\n",
    ")"
   ]
  },
  {
   "cell_type": "code",
   "execution_count": 39,
   "id": "98ab150d-deb3-47e9-87cd-9c0c0b9a3757",
   "metadata": {
    "execution": {
     "iopub.execute_input": "2022-09-25T07:59:23.221136Z",
     "iopub.status.busy": "2022-09-25T07:59:23.220700Z",
     "iopub.status.idle": "2022-09-25T07:59:24.257438Z",
     "shell.execute_reply": "2022-09-25T07:59:24.256950Z",
     "shell.execute_reply.started": "2022-09-25T07:59:23.221083Z"
    },
    "tags": []
   },
   "outputs": [],
   "source": [
    "with parallel_backend(\"threading\", n_jobs=48):\n",
    "    mic = chi2(poly_f_data, y)"
   ]
  },
  {
   "cell_type": "code",
   "execution_count": null,
   "id": "f8020eb1-b1ba-4822-9177-a816373ce5c5",
   "metadata": {
    "tags": []
   },
   "outputs": [],
   "source": [
    "joblib.dump(mic, \"mic_poly\")"
   ]
  },
  {
   "cell_type": "code",
   "execution_count": null,
   "id": "c0d507b4-97f7-4e91-adca-d998303a363b",
   "metadata": {
    "tags": []
   },
   "outputs": [],
   "source": [
    "_ = plt.plot(mic[0])\n",
    "_ = plt.plot(mic[1])"
   ]
  },
  {
   "cell_type": "code",
   "execution_count": 48,
   "id": "ea994a5c-fe74-4069-95f2-b17bd07b1f98",
   "metadata": {
    "execution": {
     "iopub.execute_input": "2022-09-25T08:01:15.277869Z",
     "iopub.status.busy": "2022-09-25T08:01:15.277428Z",
     "iopub.status.idle": "2022-09-25T08:01:15.293932Z",
     "shell.execute_reply": "2022-09-25T08:01:15.292797Z",
     "shell.execute_reply.started": "2022-09-25T08:01:15.277803Z"
    },
    "tags": []
   },
   "outputs": [],
   "source": [
    "def check_RF_perf(X, y):\n",
    "    clf = RandomForestClassifier(\n",
    "        class_weight=\"balanced\", n_jobs=24, max_features=None, max_depth=8\n",
    "    )\n",
    "    with parallel_backend(\"threading\"):\n",
    "        scores = cross_validate(\n",
    "            clf,\n",
    "            X,\n",
    "            y,\n",
    "            cv=RepeatedStratifiedKFold(n_splits=5, n_repeats=2, random_state=42),\n",
    "            n_jobs=24,\n",
    "            return_train_score=True,\n",
    "            scoring=\"f1_macro\",\n",
    "        )\n",
    "    _ = plt.plot(scores[\"test_score\"], label=\"TEST\")\n",
    "    _ = plt.plot(scores[\"train_score\"], label=\"TRAIN\")\n",
    "    _ = plt.legend()\n",
    "\n",
    "\n",
    "def check_catNB_perf(X, y):\n",
    "    min_c = X.nunique().astype(\"int\").to_numpy() + 1\n",
    "    # clf = RandomForestClassifier(class_weight='balanced',\n",
    "    #                              n_jobs=24,\n",
    "    # #                              max_features=None,\n",
    "    #                              )\n",
    "    class_prior = (y.value_counts() / X.shape[0]).sort_index().to_numpy()\n",
    "    clf = CategoricalNB(\n",
    "        fit_prior=True,\n",
    "        alpha=0.0000003,\n",
    "        min_categories=min_c,\n",
    "        #                     class_prior=class_prior\n",
    "    )\n",
    "    categories_ = []\n",
    "    for c in X.columns:\n",
    "        categories_.append(sorted(list(X[c].unique())))\n",
    "\n",
    "    work = make_pipeline(OrdinalEncoder(categories=categories_), clf)\n",
    "    X_train, X_test, y_train, y_test = train_test_split(\n",
    "        X,\n",
    "        y,\n",
    "        test_size=0.5,\n",
    "        random_state=42,\n",
    "        shuffle=True,\n",
    "        stratify=y,\n",
    "    )\n",
    "    with parallel_backend(\"threading\"):\n",
    "        #     scores = cross_validate(clf,X,y,cv=RepeatedStratifiedKFold(n_splits=5, n_repeats=2, random_state=42),n_jobs=24,return_train_score=True,scoring='f1_macro')\n",
    "        y_pred = work.fit(X_train, y_train).predict(X_test)\n",
    "        print(classification_report(y_pred, y_test))"
   ]
  },
  {
   "cell_type": "code",
   "execution_count": 111,
   "id": "384b284a-c453-434d-a414-bc594c08b709",
   "metadata": {
    "execution": {
     "iopub.execute_input": "2022-09-25T08:23:15.890276Z",
     "iopub.status.busy": "2022-09-25T08:23:15.889634Z",
     "iopub.status.idle": "2022-09-25T08:23:15.927243Z",
     "shell.execute_reply": "2022-09-25T08:23:15.926472Z",
     "shell.execute_reply.started": "2022-09-25T08:23:15.890197Z"
    },
    "tags": []
   },
   "outputs": [
    {
     "name": "stdout",
     "output_type": "stream",
     "text": [
      "216\n"
     ]
    }
   ],
   "source": [
    "good_poly = np.argsort(mic[0][np.where(mic[0] > (10**5) * 0.65)])\n",
    "good_f = list(poly_f_data.columns[good_poly])\n",
    "X = poly_f_data[good_f]\n",
    "y = data.target\n",
    "print(len(good_f))\n",
    "# for e in good_f:\n",
    "\n",
    "#     print(e)"
   ]
  },
  {
   "cell_type": "code",
   "execution_count": 112,
   "id": "21cf7137-c6a8-4658-96c8-6430aeb16fe2",
   "metadata": {
    "execution": {
     "iopub.execute_input": "2022-09-25T08:23:17.950954Z",
     "iopub.status.busy": "2022-09-25T08:23:17.950573Z",
     "iopub.status.idle": "2022-09-25T08:23:18.407231Z",
     "shell.execute_reply": "2022-09-25T08:23:18.406679Z",
     "shell.execute_reply.started": "2022-09-25T08:23:17.950909Z"
    },
    "tags": []
   },
   "outputs": [
    {
     "name": "stdout",
     "output_type": "stream",
     "text": [
      "              precision    recall  f1-score   support\n",
      "\n",
      "           0       0.58      0.54      0.56      2863\n",
      "           1       0.63      0.66      0.64      3327\n",
      "\n",
      "    accuracy                           0.60      6190\n",
      "   macro avg       0.60      0.60      0.60      6190\n",
      "weighted avg       0.60      0.60      0.60      6190\n",
      "\n"
     ]
    }
   ],
   "source": [
    "check_catNB_perf(X, y)"
   ]
  },
  {
   "cell_type": "code",
   "execution_count": 19,
   "id": "ab10c00a-8943-4d92-83e6-ce56876a9ce0",
   "metadata": {
    "execution": {
     "iopub.execute_input": "2022-09-25T07:33:07.203287Z",
     "iopub.status.busy": "2022-09-25T07:33:07.202885Z",
     "iopub.status.idle": "2022-09-25T07:33:07.647745Z",
     "shell.execute_reply": "2022-09-25T07:33:07.646864Z",
     "shell.execute_reply.started": "2022-09-25T07:33:07.203242Z"
    },
    "tags": []
   },
   "outputs": [],
   "source": [
    "import phik"
   ]
  },
  {
   "cell_type": "code",
   "execution_count": 113,
   "id": "e4badd38-492e-4c65-9cb9-3142ce9595b9",
   "metadata": {
    "execution": {
     "iopub.execute_input": "2022-09-25T08:23:25.157458Z",
     "iopub.status.busy": "2022-09-25T08:23:25.157058Z",
     "iopub.status.idle": "2022-09-25T08:23:32.631656Z",
     "shell.execute_reply": "2022-09-25T08:23:32.630889Z",
     "shell.execute_reply.started": "2022-09-25T08:23:25.157414Z"
    },
    "tags": []
   },
   "outputs": [],
   "source": [
    "pd.options.compute.use_numba = False\n",
    "data_bins = data.nunique().to_dict()\n",
    "phi = data.global_phik(\n",
    "    interval_cols=ordinal,\n",
    "    bins=data_bins,\n",
    ")\n",
    "pd.options.compute.use_numba = True"
   ]
  },
  {
   "cell_type": "code",
   "execution_count": null,
   "id": "86e0413b-1d74-4bd6-be99-ac849bd2ac78",
   "metadata": {},
   "outputs": [],
   "source": []
  },
  {
   "cell_type": "code",
   "execution_count": 104,
   "id": "baad8963-2fca-4ae6-9272-d80a9a737baa",
   "metadata": {
    "execution": {
     "iopub.execute_input": "2022-09-25T08:07:38.862765Z",
     "iopub.status.busy": "2022-09-25T08:07:38.862366Z",
     "iopub.status.idle": "2022-09-25T08:07:38.878035Z",
     "shell.execute_reply": "2022-09-25T08:07:38.877129Z",
     "shell.execute_reply.started": "2022-09-25T08:07:38.862721Z"
    },
    "tags": []
   },
   "outputs": [
    {
     "data": {
      "text/plain": [
       "nominal__customer_type  binary__has_children\n",
       "0                       0                       3582\n",
       "                        1                       2349\n",
       "1                       1                       1001\n",
       "                        0                        646\n",
       "2                       0                       1090\n",
       "                        1                        529\n",
       "3                       0                       1916\n",
       "                        1                       1266\n",
       "Name: binary__has_children, dtype: int64"
      ]
     },
     "execution_count": 104,
     "metadata": {},
     "output_type": "execute_result"
    }
   ],
   "source": [
    "data.groupby(\"nominal__customer_type\")[\"binary__has_children\"].value_counts()"
   ]
  },
  {
   "cell_type": "code",
   "execution_count": 105,
   "id": "4f7d08df-f6b5-4b64-9609-fa006717cd11",
   "metadata": {
    "execution": {
     "iopub.execute_input": "2022-09-25T08:07:51.725467Z",
     "iopub.status.busy": "2022-09-25T08:07:51.725083Z",
     "iopub.status.idle": "2022-09-25T08:07:51.733492Z",
     "shell.execute_reply": "2022-09-25T08:07:51.732523Z",
     "shell.execute_reply.started": "2022-09-25T08:07:51.725424Z"
    },
    "tags": []
   },
   "outputs": [
    {
     "data": {
      "text/plain": [
       "['binary__offer_expiration',\n",
       " 'ordinal__income_range',\n",
       " 'ordinal__no_visited_cold_drinks',\n",
       " 'binary__travelled_more_than_15mins_for_offer',\n",
       " 'ordinal__restaur_spend_less_than20',\n",
       " 'nominal__marital_status',\n",
       " 'nominal__restaurant_type',\n",
       " 'ordinal__age',\n",
       " 'binary__prefer_western_over_chinese',\n",
       " 'binary__travelled_more_than_25mins_for_offer',\n",
       " 'ordinal__no_visited_bars',\n",
       " 'binary__gender',\n",
       " 'nominal__car',\n",
       " 'binary__restuarant_same_direction_house',\n",
       " 'binary__cooks_regularly',\n",
       " 'nominal__customer_type',\n",
       " 'ordinal__qualif',\n",
       " 'binary__is_foodie',\n",
       " 'ordinal__no_take_aways',\n",
       " 'nominal__job_industry',\n",
       " 'binary__restuarant_opposite_direction_house',\n",
       " 'binary__has_children',\n",
       " 'ordinal__type_of_rest_rating',\n",
       " 'interval__temperature',\n",
       " 'ordinal__restaur_spend_greater_than20',\n",
       " 'interval__travel_time',\n",
       " 'interval__season',\n",
       " 'nominal__drop_location',\n",
       " 'binary__prefer_home_food']"
      ]
     },
     "execution_count": 105,
     "metadata": {},
     "output_type": "execute_result"
    }
   ],
   "source": [
    "list(eval_data.columns)"
   ]
  },
  {
   "cell_type": "code",
   "execution_count": 244,
   "id": "09252005-5175-470d-b095-f1f7447feff2",
   "metadata": {
    "execution": {
     "iopub.execute_input": "2022-09-25T10:07:12.712024Z",
     "iopub.status.busy": "2022-09-25T10:07:12.711596Z",
     "iopub.status.idle": "2022-09-25T10:07:12.722394Z",
     "shell.execute_reply": "2022-09-25T10:07:12.721162Z",
     "shell.execute_reply.started": "2022-09-25T10:07:12.711977Z"
    },
    "tags": []
   },
   "outputs": [],
   "source": []
  },
  {
   "cell_type": "code",
   "execution_count": 202,
   "id": "d9fdad87-5bbe-4071-a3ee-9c5aa93554bb",
   "metadata": {
    "execution": {
     "iopub.execute_input": "2022-09-25T09:23:43.814083Z",
     "iopub.status.busy": "2022-09-25T09:23:43.813612Z",
     "iopub.status.idle": "2022-09-25T09:23:43.820372Z",
     "shell.execute_reply": "2022-09-25T09:23:43.819180Z",
     "shell.execute_reply.started": "2022-09-25T09:23:43.814039Z"
    },
    "tags": []
   },
   "outputs": [],
   "source": []
  },
  {
   "cell_type": "code",
   "execution_count": 257,
   "id": "82ee78b9-da8b-4931-aacd-f4955ed38e65",
   "metadata": {
    "execution": {
     "iopub.execute_input": "2022-09-25T10:19:38.185970Z",
     "iopub.status.busy": "2022-09-25T10:19:38.185574Z",
     "iopub.status.idle": "2022-09-25T10:19:38.408666Z",
     "shell.execute_reply": "2022-09-25T10:19:38.408151Z",
     "shell.execute_reply.started": "2022-09-25T10:19:38.185925Z"
    },
    "tags": []
   },
   "outputs": [
    {
     "data": {
      "image/png": "[encoded data removed]",
      "text/plain": [
       "<Figure size 640x480 with 1 Axes>"
      ]
     },
     "metadata": {},
     "output_type": "display_data"
    }
   ],
   "source": [
    "master_data = pd.concat([data[eval_data.columns], eval_data], ignore_index=True, axis=0)\n",
    "\n",
    "\n",
    "def acceptance_ratio(df_):\n",
    "    df = df_.copy()\n",
    "    df.rename({1: \"yes\", 0: \"no\"}, axis=\"columns\", inplace=True)\n",
    "    df.eval(\"t = yes+no\", inplace=True)\n",
    "    df[\"yes\"] = df[\"yes\"] / df[\"t\"]\n",
    "    df[\"no\"] = df[\"no\"] / df[\"t\"]\n",
    "    df.eval(\"acceptance = (yes/no)\", inplace=True)\n",
    "    df = df.loc[:, [\"acceptance\"]]\n",
    "    return df\n",
    "\n",
    "\n",
    "# Male\n",
    "male = data.groupby(bio)[\"target\"].value_counts().unstack().loc[0, :, :]\n",
    "male = acceptance_ratio(male)\n",
    "# Female\n",
    "female = data.groupby(bio)[\"target\"].value_counts().unstack().loc[1, :, :]\n",
    "female = acceptance_ratio(female)\n",
    "gender_acceptance_rate = pd.DataFrame()\n",
    "gender_acceptance_rate[\"male\"] = male\n",
    "gender_acceptance_rate[\"female\"] = female\n",
    "_ = gender_acceptance_rate.plot(kind=\"bar\", title=\"Gender Age Acceptance Ratio\".upper())"
   ]
  },
  {
   "cell_type": "code",
   "execution_count": 269,
   "id": "e151948d-4d02-4474-a190-358c5cec08fe",
   "metadata": {
    "execution": {
     "iopub.execute_input": "2022-09-25T10:24:34.166474Z",
     "iopub.status.busy": "2022-09-25T10:24:34.165866Z",
     "iopub.status.idle": "2022-09-25T10:24:34.329986Z",
     "shell.execute_reply": "2022-09-25T10:24:34.329341Z",
     "shell.execute_reply.started": "2022-09-25T10:24:34.166425Z"
    },
    "tags": []
   },
   "outputs": [
    {
     "data": {
      "image/png": "[encoded data removed]",
      "text/plain": [
       "<Figure size 640x480 with 1 Axes>"
      ]
     },
     "metadata": {},
     "output_type": "display_data"
    }
   ],
   "source": [
    "destination_travel_time = (\n",
    "    master_data.groupby(\"nominal__drop_location\")[\"interval__travel_time\"]\n",
    "    .value_counts()\n",
    "    .unstack()\n",
    ")\n",
    "destination_travel_time = destination_travel_time.divide(\n",
    "    destination_travel_time.sum(axis=1), axis=0\n",
    ")\n",
    "time_code = {7: \"s\", 10: \"t\", 14: \"f\", 18: \"e\", 22: \"w\"}\n",
    "destination_travel_time.rename(time_code, axis=\"columns\", inplace=True)\n",
    "destination_travel_time.eval(\n",
    "    \"Ex = ((7*s)+ (10*t) + (14*f) + (18*e) + (22*w))\", inplace=True\n",
    ")\n",
    "destination_travel_time.eval(\n",
    "    \"Ex2 = ((49*s)+ (100*t) + (196*f) + (324*e) + (484*w))\", inplace=True\n",
    ")\n",
    "destination_travel_time.eval(\"Std = (Ex2 - (Ex*Ex))**0.5\", inplace=True)\n",
    "# _ = destination_travel_time['avg_time'].plot(kind='bar',title='avg. time to reach'.upper())\n",
    "destination_travel_time\n",
    "_ = plt.bar(\n",
    "    x=destination_travel_time.index,\n",
    "    height=destination_travel_time[\"Ex\"],\n",
    "    label=\"Average Travel Time\",\n",
    ")\n",
    "_ = plt.xticks([0, 1, 2])\n",
    "_ = plt.plot(destination_travel_time[\"Std\"], \"-r\", label=\"deviation\")\n",
    "_ = plt.legend()"
   ]
  },
  {
   "cell_type": "code",
   "execution_count": 270,
   "id": "8186dbaf-1463-4ecd-9025-f2bd00ba3e2b",
   "metadata": {
    "execution": {
     "iopub.execute_input": "2022-09-25T10:26:49.706488Z",
     "iopub.status.busy": "2022-09-25T10:26:49.706061Z",
     "iopub.status.idle": "2022-09-25T10:26:49.714076Z",
     "shell.execute_reply": "2022-09-25T10:26:49.713018Z",
     "shell.execute_reply.started": "2022-09-25T10:26:49.706444Z"
    },
    "tags": []
   },
   "outputs": [
    {
     "data": {
      "text/plain": [
       "'\\nHence It makes sense to rename the nominal drop Location to much more meaningful Ordinal Variable based on General Closeness to target Pop.\\n'"
      ]
     },
     "execution_count": 270,
     "metadata": {},
     "output_type": "execute_result"
    }
   ],
   "source": [
    "closeness_ranks = {0: 3, 1: 2, 2: 1}\n",
    "\n",
    "\n",
    "def rank_closeness(row):\n",
    "    row[\"nominal__drop_location\"] = closeness_ranks[row[\"nominal__drop_location\"]]\n",
    "    return row\n",
    "\n",
    "\n",
    "data = data.apply(rank_closeness, axis=1)\n",
    "eval_data = eval_data.apply(rank_closeness, axis=1)\n",
    "data.rename({\"nominal__drop_location\": \"ordinal__dest_distance\"})\n",
    "eval_data.rename({\"nominal__drop_location\": \"ordinal__dest_distance\"})"
   ]
  }
 ],
 "metadata": {
  "kernelspec": {
   "display_name": "Python (ML)",
   "language": "python",
   "name": "ml"
  },
  "language_info": {
   "codemirror_mode": {
    "name": "ipython",
    "version": 3
   },
   "file_extension": ".py",
   "mimetype": "text/x-python",
   "name": "python",
   "nbconvert_exporter": "python",
   "pygments_lexer": "ipython3",
   "version": "3.9.10"
  },
  "papermill": {
   "default_parameters": {},
   "duration": 25.640941,
   "end_time": "2022-09-22T12:45:46.908937",
   "environment_variables": {},
   "exception": null,
   "input_path": "__notebook__.ipynb",
   "output_path": "__notebook__.ipynb",
   "parameters": {},
   "start_time": "2022-09-22T12:45:21.267996",
   "version": "2.3.4"
  },
  "widgets": {
   "application/vnd.jupyter.widget-state+json": {
    "state": {},
    "version_major": 2,
    "version_minor": 0
   }
  }
 },
 "nbformat": 4,
 "nbformat_minor": 5
}
